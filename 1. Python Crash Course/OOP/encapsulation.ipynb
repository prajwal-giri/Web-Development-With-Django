{
 "cells": [
  {
   "cell_type": "code",
   "execution_count": 1,
   "metadata": {},
   "outputs": [],
   "source": [
    "# Encapsulation\n",
    "# Public, private, protected access modifiers"
   ]
  },
  {
   "cell_type": "code",
   "execution_count": 2,
   "metadata": {},
   "outputs": [],
   "source": [
    "# public is accessed and can be modified by anywhere.(by default all attributes/methods are public)\n",
    "# private can only be accessed from inside of a class.(__ this sign is used before attribute or method name to keep it private)\n",
    "# protected can be accessed from outside, but it is not good practice. \n",
    "# (_ this sign is used before attribute or method name to keep it protected.)"
   ]
  },
  {
   "cell_type": "code",
   "execution_count": 3,
   "metadata": {},
   "outputs": [
    {
     "name": "stdout",
     "output_type": "stream",
     "text": [
      "12\n",
      "xyz\n",
      "15\n"
     ]
    }
   ],
   "source": [
    "class Animal:                   \n",
    "    animal_type = \"dog\"    # public class attribute\n",
    "\n",
    "    def __init__(self,breed,age):   \n",
    "        self.breed = breed  # oublic instance attribute\n",
    "        self.age = age\n",
    "\n",
    "    def display(self):       # public method\n",
    "        print(self.age,self.breed)\n",
    "\n",
    "obj1 = Animal(\"xyz\",12)\n",
    "print(obj1.age)                     # we can easily access public attribute\n",
    "print(obj1.breed)\n",
    "obj1.age = 15                       # we can modify public attribute.  \n",
    "print(obj1.age)\n",
    "    "
   ]
  },
  {
   "cell_type": "code",
   "execution_count": 4,
   "metadata": {},
   "outputs": [
    {
     "name": "stdout",
     "output_type": "stream",
     "text": [
      "20\n",
      "28\n"
     ]
    }
   ],
   "source": [
    "class Animal:                   \n",
    "    _animal_type = \"dog\"    # protected class attribute\n",
    "\n",
    "    def __init__(self,breed,age):   \n",
    "        self._breed = breed  # protected instance attribute\n",
    "        self._age = age\n",
    "\n",
    "    def _display(self):       # protected method\n",
    "        print(self._age,self._breed)\n",
    "\n",
    "obj2 = Animal(\"abc\",20)\n",
    "print(obj2._age)   # we can access but it is not practiced.\n",
    "obj2._age = 28\n",
    "print(obj2._age)"
   ]
  },
  {
   "cell_type": "code",
   "execution_count": null,
   "metadata": {},
   "outputs": [],
   "source": [
    "class Animal:                   \n",
    "    __animal_type = \"dog\"    # private class attribute\n",
    "\n",
    "    def __init__(self,breed,age):   \n",
    "        self.__breed = breed  # private instance attribute\n",
    "        self.__age = age\n",
    "\n",
    "    def __display(self):       # private method\n",
    "        print(self.__age,self.__breed)\n",
    "\n",
    "obj2 = Animal(\"abc\",20)\n",
    "# print(obj2.__age)   in private , it throws error when we even try to access it."
   ]
  },
  {
   "cell_type": "code",
   "execution_count": null,
   "metadata": {},
   "outputs": [],
   "source": []
  }
 ],
 "metadata": {
  "interpreter": {
   "hash": "916dbcbb3f70747c44a77c7bcd40155683ae19c65e1c03b4aa3499c5328201f1"
  },
  "kernelspec": {
   "display_name": "Python 3.9.7 64-bit",
   "language": "python",
   "name": "python3"
  },
  "language_info": {
   "codemirror_mode": {
    "name": "ipython",
    "version": 3
   },
   "file_extension": ".py",
   "mimetype": "text/x-python",
   "name": "python",
   "nbconvert_exporter": "python",
   "pygments_lexer": "ipython3",
   "version": "3.9.7"
  },
  "orig_nbformat": 4
 },
 "nbformat": 4,
 "nbformat_minor": 2
}
