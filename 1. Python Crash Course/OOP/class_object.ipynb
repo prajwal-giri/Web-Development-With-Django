{
 "cells": [
  {
   "cell_type": "code",
   "execution_count": 1,
   "metadata": {},
   "outputs": [],
   "source": [
    "# class and Objects\n",
    "\n",
    "# class is data type or data structure.\n",
    "# we have been using built in class before,as int class,str class,float class,list class,dict class etc.\n",
    "# we here will create our own class with variables(also called attributes/data members) and \n",
    "# functions (also called methods/member functions)"
   ]
  },
  {
   "cell_type": "code",
   "execution_count": 2,
   "metadata": {},
   "outputs": [],
   "source": [
    "# Syntax/Examples for creating a Class\n",
    "\n",
    "class NicStudent:                 # class is a keyword for creating a class and NicStudent is name of the class here.\n",
    "        name = \"Aditi\"            # creating/assigning varibales here which are  also called attributes or class attributes\n",
    "        age = 24\n",
    "        major = \"Science\"\n",
    "\n",
    "        def welcome(self):      # creating a method named welcome\n",
    "        # self parameter is always kept as first argument.\n",
    "        # here self means it represent itselfs, while creating an instance/object of a class.\n",
    "        # We will understand more while creating instance/object of this class below.\n",
    "            print(f\"Hello {self.name}, Welcome to the {self.major} major\")  \n",
    "            # here also we write self.name and self.major instead\n",
    "            # of name and major..............."
   ]
  },
  {
   "cell_type": "code",
   "execution_count": 3,
   "metadata": {},
   "outputs": [
    {
     "name": "stdout",
     "output_type": "stream",
     "text": [
      "GIRI\n",
      "PRAJWAL\n"
     ]
    }
   ],
   "source": [
    "# object is the instance of the class.\n",
    "# we have been creating object of built in class since from starting python.\n",
    "a = 5      # a = int(5)   # here we create an object name a of class integer and assign value 5. \n",
    "b = \"giri\"           # by default it runes likes this   b = str(\"giri\")         # we create an object named b from class string\n",
    "c = \"prajwal\"        # by default it runes likes this   c = str(\"prajwal\") # we create an object named c from class string\n",
    "d = [2,8,\"apple\"]    # by default it runes likes this   d = list([2,8,\"apple\"]) # we create an object named d from class list\n",
    "\n",
    "# here b and b are both objects of str class, so both can access the methods and attributes of string class.\n",
    "# example:\n",
    "\n",
    "print(b.upper())      # printing out the result after using string method \"upper\" on object b.\n",
    "print(c.upper())      # # printing out the result after using string method \"upper\" on object c."
   ]
  },
  {
   "cell_type": "code",
   "execution_count": 4,
   "metadata": {},
   "outputs": [],
   "source": [
    "# we create objects to access the attributes and methods of a class.\n",
    "# Similarly we can create as many objects as needed from user made class.\n",
    "# all objects can access the attributes and methods of their class.\n",
    "# all objects of the same class share same attributes and  methods. "
   ]
  },
  {
   "cell_type": "code",
   "execution_count": 5,
   "metadata": {},
   "outputs": [
    {
     "name": "stdout",
     "output_type": "stream",
     "text": [
      "PYTHON\n",
      "DJANGO\n",
      "PYTHON\n",
      "DJANGO\n"
     ]
    }
   ],
   "source": [
    "# creating objects of str class:\n",
    "# understanding of how self works.\n",
    "\n",
    "# assumtions of str class:\n",
    "#class str:\n",
    "    # constructurs\n",
    "    # some attributes,# some methods\n",
    "\n",
    "    #def upper(self):\n",
    "        # upper methods working codes\n",
    "        # return\n",
    "\n",
    "    # more methods\n",
    "\n",
    "\n",
    " \n",
    "y = \"Python\"       # creating object named y of str class  # code also be as y = str(\"Python\")\n",
    "z = \"Django\"       # creating object named z of str class\n",
    "\n",
    "print(y.upper())  # here we call upper method,where this access the upper(self) method from str class, and code becomes like:\n",
    "                  # str.upper(y)\n",
    "print(z.upper())  # str.upper(z)    # here we see why self is used, as we call the method from a particular current object, \n",
    "                  # it itself goes to (self) parameter and gives us the expected result as below. \n",
    "print(str.upper(y))\n",
    "print(str.upper(z))  # this below 2 codes are just to see examples of how exactly the objects methods are executed when called\n",
    "                    # and see why self is used as first argument and is mandatory in class methods."
   ]
  },
  {
   "cell_type": "code",
   "execution_count": 6,
   "metadata": {},
   "outputs": [],
   "source": [
    "# Syntax and examples of Class and then Objects Creation of User Defined Class.\n",
    "# self is a variable that stores instance/object\n",
    "\n",
    "class HomoSapiens:    # creating a class\n",
    "    name = \"Hari\"\n",
    "    sex = \"Male\"    #  attributes  \n",
    "    age = 30            \n",
    "\n",
    "    # creating method to print name when called\n",
    "    def display_username(self):               # we use self.name to access the name attribute inside of a class,\n",
    "        print(f\"Your name is {self.name}\")    # this self.name is also called instance attribute\n",
    "                                                               \n",
    "    def display_age(self):                            # creating method to print age when called\n",
    "        print(f\"Your age is {self.age}\")\n",
    "\n",
    "    def display_sex(self):                              # creating method to print gender if called.\n",
    "        print(f\"Your gender is {self.sex}\")\n",
    "    "
   ]
  },
  {
   "cell_type": "code",
   "execution_count": 7,
   "metadata": {},
   "outputs": [
    {
     "name": "stdout",
     "output_type": "stream",
     "text": [
      "Your age is 30\n",
      "Your age is 30\n",
      "Your age is 30\n"
     ]
    }
   ],
   "source": [
    "# creating object syntax and example of above class named HomoSapiens.\n",
    "# object is also called instance.\n",
    "\n",
    "user1 = HomoSapiens()    # user1 is name for an object,it is varibale name similar to when we were creating object of in-built class\n",
    "                         # i.e int,list,str,dict etc.\n",
    "user2 = HomoSapiens()    # creating user2 named object of same class.\n",
    "user3 = HomoSapiens()    # creating user3 object of same class HomoSapiens.\n",
    "\n",
    "user1.display_age()  # here the command works as : HomoSapiens.display_age(user1) calling display_age method of user1 instance  \n",
    "user2.display_age()  # here the command works as : HomoSapiens.display_age(user2)\n",
    "user2.display_age()  # here the command works as : HomoSapiens.display_age(user3)\n",
    "\n",
    "\n",
    "\n",
    "# remember each object we create here, holds a different memory place in computer,they are only accessing attributes and \n",
    "# methods of  the same class,except class attribute.\n",
    "# but are 3 different objects and when any methods are called with that object, that particular object holds the self parameter."
   ]
  }
 ],
 "metadata": {
  "interpreter": {
   "hash": "31f2aee4e71d21fbe5cf8b01ff0e069b9275f58929596ceb00d14d90e3e16cd6"
  },
  "kernelspec": {
   "display_name": "Python 3.9.7 64-bit",
   "language": "python",
   "name": "python3"
  },
  "language_info": {
   "codemirror_mode": {
    "name": "ipython",
    "version": 3
   },
   "file_extension": ".py",
   "mimetype": "text/x-python",
   "name": "python",
   "nbconvert_exporter": "python",
   "pygments_lexer": "ipython3",
   "version": "3.9.7"
  },
  "orig_nbformat": 4
 },
 "nbformat": 4,
 "nbformat_minor": 2
}
