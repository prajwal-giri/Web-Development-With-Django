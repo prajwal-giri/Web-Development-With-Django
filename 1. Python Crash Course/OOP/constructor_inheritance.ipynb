{
 "cells": [
  {
   "cell_type": "code",
   "execution_count": 1,
   "metadata": {},
   "outputs": [],
   "source": [
    "# constructor\n",
    "# constructor or init method is a method inside a  class, that is automatically called, when we create a instance/object.\n",
    "\n",
    "# example/syntax of init method:\n",
    "\n",
    "class Vertebrates: \n",
    "    \n",
    "    animal_type1 = \"Birds\"  # this is class attributes(also known as static attribute) that is shared,accessed by all the objects\n",
    "                            # class attributes will be same for all the objects,but are not the part of any particular objects.\n",
    "    animal_type2 = \"Humans\"\n",
    "\n",
    "\n",
    "    def __init__(self, name):  # creating init method\n",
    "        self.name = name       # assigning instance attributes, which are created inside constructor or any method using self\n",
    "                    # instance varibale can be accessed by all objects, but the value assigned to it differs from object to object.\n",
    "\n",
    "    def retrun_name(self):   # creating a method that returns the value assigned to instance variable(self.name)\n",
    "        return self.name    \n",
    "\n",
    "    def ask_age(self,age):    # creating a method that expects a argument for parameter age.\n",
    "        self.age = age        # assigning value of age that we get from argument and creating instance variable(self.age)\n",
    "\n",
    "    def display_age(self):    # creating a method to print out age(value stored in instance varibale self.age)\n",
    "        print(self.age)\n",
    "\n",
    "    def __str__(self):   # creating __str__ method , that is called when object is changed to a string.\n",
    "        return f\"{self.name} {self.animal_type1} {self.animal_type2}\""
   ]
  },
  {
   "cell_type": "code",
   "execution_count": 2,
   "metadata": {},
   "outputs": [
    {
     "data": {
      "text/plain": [
       "'Parrot'"
      ]
     },
     "execution_count": 2,
     "metadata": {},
     "output_type": "execute_result"
    }
   ],
   "source": [
    "vertebrate1 = Vertebrates(\"Parrot\")  # creating instance and giving argument as init method above expects while creating object.\n",
    "vertebrate2 = Vertebrates(\"Snake\")   # actually works as Vertebrates.__init__(vertebrate2,\"Snake\")\n",
    "\n",
    "vertebrate1.retrun_name()   # calling return_method for vertrebrate1 instance. works as :Vertebrates.return_name(vertebrate1)"
   ]
  },
  {
   "cell_type": "code",
   "execution_count": 3,
   "metadata": {},
   "outputs": [
    {
     "data": {
      "text/plain": [
       "'Snake'"
      ]
     },
     "execution_count": 3,
     "metadata": {},
     "output_type": "execute_result"
    }
   ],
   "source": [
    "vertebrate2.retrun_name()   # calling return_method for vertrebrate1 instance. works as :Vertebrates.return_name(vertebrate2)"
   ]
  },
  {
   "cell_type": "code",
   "execution_count": 4,
   "metadata": {},
   "outputs": [],
   "source": [
    "\n",
    "vertebrate1.ask_age(20)   # calling ask_age method,for instance vertebrate1 which expects a argument. # works as : Vertebrates.ask_age(vertebrate1)\n",
    "vertebrate2.ask_age(25)   # calling ask_age method,for instance vertebrate2 which expects a argument. # works as : Vertebrates.ask_age(vertebrate2)\n",
    "# this above methods assign (vertebrate1.age)self.age to 20 in vertebrate1 instance and\n",
    "# this above methods assign (vertebrate2.age)self.age to 25 in vertebrate2 instance."
   ]
  },
  {
   "cell_type": "code",
   "execution_count": 5,
   "metadata": {},
   "outputs": [
    {
     "name": "stdout",
     "output_type": "stream",
     "text": [
      "20\n",
      "25\n"
     ]
    }
   ],
   "source": [
    "# now displaying age calling dispay_age method.\n",
    "\n",
    "vertebrate1.display_age()   # actually works as Vertebrates.display_age(vertebrate1)\n",
    "vertebrate2.display_age()   # actually works as Vertebrates.display_age(vertebrate2)"
   ]
  },
  {
   "cell_type": "code",
   "execution_count": 6,
   "metadata": {},
   "outputs": [
    {
     "name": "stdout",
     "output_type": "stream",
     "text": [
      "Parrot Birds Humans\n",
      "Snake Birds Humans\n",
      "<class 'str'>\n"
     ]
    }
   ],
   "source": [
    "# __str__ method or dunder ((returns string representation of the object))\n",
    "\n",
    "result1 = vertebrate1.__str__()\n",
    "result2 = vertebrate2.__str__()\n",
    "print(result1)\n",
    "print(result2)\n",
    "print(type(result1))"
   ]
  },
  {
   "cell_type": "code",
   "execution_count": 7,
   "metadata": {},
   "outputs": [],
   "source": [
    "# Inheritance \n",
    "\n",
    "# Inheritance means bringing the attributes and methods of one class to another class.\n",
    "# From which class the attributes and methods is borrrowed, it is called Parent Class or Base class or Super Class.\n",
    "# The class which recives or inherits , is called child Class or Sub class.\n",
    "# It is used to re use the similar codes."
   ]
  },
  {
   "cell_type": "code",
   "execution_count": 8,
   "metadata": {},
   "outputs": [],
   "source": [
    "class Sapiens:     # Here this is an example of a class.\n",
    "    def __init__(self,type):\n",
    "        self.type = type\n",
    "\n",
    "    def display_type(self):\n",
    "        print(self.type)\n",
    "\n",
    "    def is_intelligent(self):\n",
    "        return False\n",
    "\n",
    "class HomoSapiens(Sapiens):   # here we create a class called Homosapiens under the class Sapiens, meaning it inheritates.\n",
    "                              # this makes Sapiens class father class and Homosapiens a child class.\n",
    "                # all properties are brought to child class except, the similar method that already exists on both class will be not be \n",
    "                # replaced in child class. that specific method from father class will not be inherited in child class.\n",
    "    def is_intelligent(self):\n",
    "        return True\n",
    "\n",
    "    def uses_car(self): # The properties from father class is inherited to child class, but it also includes what is already in child class\n",
    "        return True\n"
   ]
  },
  {
   "cell_type": "code",
   "execution_count": 9,
   "metadata": {},
   "outputs": [
    {
     "name": "stdout",
     "output_type": "stream",
     "text": [
      "Primitive\n"
     ]
    },
    {
     "data": {
      "text/plain": [
       "False"
      ]
     },
     "execution_count": 9,
     "metadata": {},
     "output_type": "execute_result"
    }
   ],
   "source": [
    "sap1 = Sapiens(\"Primitive\")   # creating instance of parent class\n",
    "sap2 = HomoSapiens(\"Humans\")  # creating instance of child class, as no init method is inside child class, but it inherites from Super class\n",
    "\n",
    "sap1.display_type()   # works as Sapiens.display_type(sap1,\"primitive\")\n",
    "sap1.is_intelligent() # since we are calling from the instance of parent class, all the original properties(attributes/methods) will work. "
   ]
  },
  {
   "cell_type": "code",
   "execution_count": 10,
   "metadata": {},
   "outputs": [
    {
     "name": "stdout",
     "output_type": "stream",
     "text": [
      "Humans\n"
     ]
    },
    {
     "data": {
      "text/plain": [
       "True"
      ]
     },
     "execution_count": 10,
     "metadata": {},
     "output_type": "execute_result"
    }
   ],
   "source": [
    "sap2.display_type()  # works as HomoSapiens.display_type(sap2,\"humans\")\n",
    "sap2.is_intelligent()  # since sap2 which is the instance of child class, replaces the similar methods from parent class, the result differs."
   ]
  },
  {
   "cell_type": "code",
   "execution_count": 11,
   "metadata": {},
   "outputs": [],
   "source": [
    "# inheritance : Constructor Overriding\n",
    "\n",
    "# if both parent class and child has constructor, then we know child constructor replaces the parent's one.\n",
    "# But we can use parent class construstor as well in child class using super() which is called constructor overriding\n",
    "\n",
    "# parent class\n",
    "class School:\n",
    "\n",
    "    def __init__(self, name, age):\n",
    "        self.name = name\n",
    "        self.age = age\n",
    "\n",
    "    def name_age1(self):\n",
    "        print(self.name)\n",
    "        print(self.age)\n",
    "\n",
    "       \n",
    "\n",
    "\n",
    "class Student(School):          # creating child class in father class so it inheritates.\n",
    "\n",
    "    def __init__(self, name, age, grade):\n",
    "        self.age = age\n",
    "        self.grade = grade\n",
    "\n",
    "        School.__init__(self, name, age)  # adding constructor of parent class in child class  \n",
    "        \n",
    "        #super().__init__(name, age)   # same method of adding parent class in child class , but using super(), we dont use self.\n",
    "    \n",
    "    def name_age2(self):\n",
    "        print(self.name)\n",
    "        print(self.age)\n",
    "        print(self.grade)"
   ]
  },
  {
   "cell_type": "code",
   "execution_count": 12,
   "metadata": {},
   "outputs": [
    {
     "name": "stdout",
     "output_type": "stream",
     "text": [
      "Sujata\n",
      "21\n",
      "Sujata\n",
      "21\n",
      "2.7\n"
     ]
    }
   ],
   "source": [
    "student1 = Student('Sujata', 21, 2.7)   # creating an object/instance of class Student.\n",
    "\n",
    "student1.name_age1()     # actually work as Student.name_age1(student1) this method is also being called as child recieves parent methods.\n",
    "student1.name_age2()     # actually work as Student.name_age2(studnet2)"
   ]
  }
 ],
 "metadata": {
  "interpreter": {
   "hash": "916dbcbb3f70747c44a77c7bcd40155683ae19c65e1c03b4aa3499c5328201f1"
  },
  "kernelspec": {
   "display_name": "Python 3.9.7 64-bit",
   "language": "python",
   "name": "python3"
  },
  "language_info": {
   "codemirror_mode": {
    "name": "ipython",
    "version": 3
   },
   "file_extension": ".py",
   "mimetype": "text/x-python",
   "name": "python",
   "nbconvert_exporter": "python",
   "pygments_lexer": "ipython3",
   "version": "3.9.7"
  },
  "orig_nbformat": 4
 },
 "nbformat": 4,
 "nbformat_minor": 2
}
