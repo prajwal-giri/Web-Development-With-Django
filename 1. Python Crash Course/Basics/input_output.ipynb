{
 "cells": [
  {
   "cell_type": "code",
   "execution_count": 1,
   "metadata": {},
   "outputs": [],
   "source": [
    "#Notes\n",
    "\n",
    "# input()  function to get user input\n",
    "# what we get from user will always comes in string type.\n",
    "\n",
    "# print()  function to print the output"
   ]
  },
  {
   "cell_type": "code",
   "execution_count": 2,
   "metadata": {},
   "outputs": [
    {
     "name": "stdout",
     "output_type": "stream",
     "text": [
      "Hello, prajwal\n"
     ]
    }
   ],
   "source": [
    "# program to ask user his/her name and printing hello name to respective users.\n",
    "\n",
    "name = input(\"enter your name: \")   # asking user name and putting the answer in varibale name.\n",
    "\n",
    "# printing output\n",
    "\n",
    "print(\"Hello, \" + name)   # since the input we get from user always comes in string we can concatenate both strings."
   ]
  },
  {
   "cell_type": "code",
   "execution_count": 3,
   "metadata": {},
   "outputs": [
    {
     "name": "stdout",
     "output_type": "stream",
     "text": [
      "10\n"
     ]
    }
   ],
   "source": [
    "# program to ask user any number and printing the number by adding 5 to it.\n",
    "\n",
    "num = int(input(\"enter any number \"))  # we are using int() function to convert the user answer(string) to integer, so we can add\n",
    "# or carry out mathematical calculations)\n",
    "\n",
    "sum = num + 5  # since num has been converted to integer using int() function, now we can carry mathematical operations\n",
    "print(sum)"
   ]
  },
  {
   "cell_type": "code",
   "execution_count": 4,
   "metadata": {},
   "outputs": [
    {
     "name": "stdout",
     "output_type": "stream",
     "text": [
      "Prajwal\n",
      "P r a j w a l\n",
      "Prajwal%\n",
      "P&r&a&j&w&a&l\n"
     ]
    }
   ],
   "source": [
    "# printing string \"Prajwal\"\n",
    "\n",
    "print(\"Prajwal\")\n",
    "\n",
    "# printing string \"Prajwal\" but with spaces (as , generates space between characters)\n",
    "print(\"P\",\"r\",\"a\",\"j\",\"w\",\"a\",\"l\")   \n",
    "\n",
    "# printing string \"Prajwal\" ending the string with anything we like using end=\" \" (any thing between \" \" will be added to the end)\n",
    "print(\"Prajwal\", end=\"%\")\n",
    "\n",
    "print()    # prints out new line\n",
    "\n",
    "# printing string \"P\",\"r\",\"a\",\"j\",\"w\",\"a\",\"l\"  which is separated by space but can be modified by using sep=\" \" \n",
    "print(\"P\",\"r\",\"a\",\"j\",\"w\",\"a\",\"l\",sep=\"&\")"
   ]
  },
  {
   "cell_type": "code",
   "execution_count": 5,
   "metadata": {},
   "outputs": [
    {
     "name": "stdout",
     "output_type": "stream",
     "text": [
      "Prajwal Giri\n",
      "Prajwal Giri\n",
      "Prajwal Giri\n"
     ]
    }
   ],
   "source": [
    "# FORMATING OUTPUT\n",
    "\n",
    "#Python String formatting using F string and format()\n",
    "\n",
    "first_name = \"Prajwal\"\n",
    "last_name = \"Giri\"\n",
    "\n",
    "print(first_name,last_name)  \n",
    "\n",
    "print('{} {}'.format(first_name,last_name))      #  using .format()  \n",
    "print(f\"{first_name} {last_name}\")               # using f string formatting"
   ]
  },
  {
   "cell_type": "code",
   "execution_count": 6,
   "metadata": {},
   "outputs": [
    {
     "name": "stdout",
     "output_type": "stream",
     "text": [
      "the value of num1 is 3 and num2 is 8.\n",
      "the value of num1 is 3 and num2 is 8.\n"
     ]
    }
   ],
   "source": [
    "num1 = 3\n",
    "num2 = 8\n",
    "print(\"the value of num1 is {0} and num2 is {1}.\".format(num1,num2))   # using .format() and {0} and {1} are the indexing place for their respective values.\n",
    "print(f\"the value of num1 is {num1} and num2 is {num2}.\")    # using f string formatting which is lot easier as per me."
   ]
  }
 ],
 "metadata": {
  "interpreter": {
   "hash": "916dbcbb3f70747c44a77c7bcd40155683ae19c65e1c03b4aa3499c5328201f1"
  },
  "kernelspec": {
   "display_name": "Python 3.9.7 64-bit",
   "language": "python",
   "name": "python3"
  },
  "language_info": {
   "codemirror_mode": {
    "name": "ipython",
    "version": 3
   },
   "file_extension": ".py",
   "mimetype": "text/x-python",
   "name": "python",
   "nbconvert_exporter": "python",
   "pygments_lexer": "ipython3",
   "version": "3.9.7"
  },
  "orig_nbformat": 4
 },
 "nbformat": 4,
 "nbformat_minor": 2
}
