{
 "cells": [
  {
   "cell_type": "code",
   "execution_count": 1,
   "metadata": {},
   "outputs": [
    {
     "name": "stdout",
     "output_type": "stream",
     "text": [
      "26\n",
      "12\n",
      "133\n",
      "2.7142857142857144\n",
      "2\n",
      "5\n",
      "893871739\n"
     ]
    },
    {
     "data": {
      "text/plain": [
       "893871739"
      ]
     },
     "execution_count": 1,
     "metadata": {},
     "output_type": "execute_result"
    }
   ],
   "source": [
    "# OPERATORS\n",
    "\n",
    "\n",
    "# Arithmetic Operators (used for mathmatical operations)\n",
    "\n",
    "a = 19\n",
    "b = 7\n",
    "\n",
    "print(a + b)  # addition\n",
    "print(a - b)  # subtraction\n",
    "print(a * b)  # multiplication\n",
    "print(a / b)  # division(results in floating number)\n",
    "print(a // b) # floor division(result is in integer)\n",
    "print(a % b)  # Modulos(remainder after divison comes to result)\n",
    "print(a**b)   # exponentiation (to the power of)\n",
    "26\n",
    "12\n",
    "133\n",
    "2.7142857142857144\n",
    "2\n",
    "5\n",
    "893871739"
   ]
  },
  {
   "cell_type": "code",
   "execution_count": 2,
   "metadata": {},
   "outputs": [
    {
     "name": "stdout",
     "output_type": "stream",
     "text": [
      "True\n",
      "False\n",
      "False\n",
      "True\n",
      "True\n",
      "False\n"
     ]
    }
   ],
   "source": [
    "# Comparision Operator/(Relational Operator) uses to compare vaules and result will be on boolean expression(True or False)\n",
    "\n",
    "x = 10\n",
    "y = 5\n",
    "\n",
    "print(x > y)       # True if x is greater than y\n",
    "print(x < y)       # True if x is less than y or else False\n",
    "print(x == y)      # True if x is equal to y or else False\n",
    "print(x != y)      # True if x is not equal to y or else False\n",
    "print(x >= y)      # True if x is greater than or equal to y\n",
    "print(x <= y)      # True if x is less than or equal to y"
   ]
  },
  {
   "cell_type": "code",
   "execution_count": 3,
   "metadata": {},
   "outputs": [
    {
     "name": "stdout",
     "output_type": "stream",
     "text": [
      "True\n",
      "False\n",
      "False\n",
      "True\n",
      "True\n",
      "False\n"
     ]
    }
   ],
   "source": [
    "# Logical Operator (Used if there is more than 1 conditions)\n",
    "# (and, or , not)\n",
    "\n",
    "# Logical AND Operator\n",
    "# False even if only one condition is False. # True only if both conditions are True.\n",
    "\n",
    "print(30 > 5 and 25 > 8)  # Both condition is True so it returns True.\n",
    "print(85 >= 85 and 90 < 42) # Second Condition is False so it returns False.\n",
    "\n",
    "\n",
    "# Logical OR Operator\n",
    "# True if even only one conditon is True. Returns False only when both conditions are False.\n",
    "    \n",
    "print(30 < 5 or 25 < 8 )    # Both condition is False so it returns False.\n",
    "print(85 >= 85 or 90 < 42)  # One condition is True so it returns True.\n",
    "\n",
    "\n",
    "# Logical NOT operator\n",
    "# True if condition is False and False if condition is True: (Returns opposite)\n",
    "print(not 4 < 2)     # 4 less than 2 is False, but with not operator result will be True\n",
    "print(not 4 == 4)    # 4 equals to 4 is True, but with not operator result will be False"
   ]
  },
  {
   "cell_type": "code",
   "execution_count": 4,
   "metadata": {},
   "outputs": [
    {
     "name": "stdout",
     "output_type": "stream",
     "text": [
      "15\n",
      "15\n",
      "10\n",
      "50\n",
      "10.0\n",
      "2.0\n",
      "2.0\n",
      "32.0\n"
     ]
    }
   ],
   "source": [
    "# Assignment Operators\n",
    "a = 10\n",
    "b = 5\n",
    "\n",
    "\n",
    "c = a + b        # = used to assign value from right to left.\n",
    "print(c)\n",
    "\n",
    "a += b           # a = a + b (this means a is added to b then value is assigned to a)\n",
    "print(a)\n",
    "\n",
    "a -= b           # a = a - b (this means a minus b then value is assigned to a)\n",
    "print(a)\n",
    "\n",
    "a *= b           # a = a * b (this means a is multiplied to b then value is assigned to a)    \n",
    "print(a)\n",
    "\n",
    "a /= b           # a = a / b (this means a is divided by b using float division, then value is assigned to a)\n",
    "print(a)\n",
    "\n",
    "a //= b          # a = a // b (this means a is divided by b using floor division then value is assigned to a)   \n",
    "print(a)\n",
    "\n",
    "a %= b           # a = a % b (this means a is divided by b and remainder result is assigned to a)\n",
    "print(a)\n",
    "\n",
    "a **= b          # a = a ** b (this means a to the power of b is calculated and result is assigned to a)\n",
    "print(a)"
   ]
  },
  {
   "cell_type": "code",
   "execution_count": 5,
   "metadata": {},
   "outputs": [
    {
     "name": "stdout",
     "output_type": "stream",
     "text": [
      "False\n",
      "True\n",
      "True\n",
      "True\n"
     ]
    }
   ],
   "source": [
    "# Identity Operators\n",
    "\n",
    "# is and is not are identity operators ,both are used to check if two values are located on the same memory or not.\n",
    "# used to check the type of vaule.\n",
    "# In python memory allocation is used by value, not by variable name like in other programming languages.\n",
    "\n",
    "\n",
    "x = 10\n",
    "y = 20\n",
    "z = x\n",
    "q = 10\n",
    "\n",
    "print(x is y)              # False because x is 10 and y is 20 and holds different memory location\n",
    "print(x is not y)          # True because (not False)\n",
    "print(x is z)              # True because z is equal to x which equals to 10 making both value 10 and same value holds same memory location\n",
    "print(x is q)              # True because both value is 10 and it holds same memory location."
   ]
  },
  {
   "cell_type": "code",
   "execution_count": 6,
   "metadata": {},
   "outputs": [
    {
     "name": "stdout",
     "output_type": "stream",
     "text": [
      "False\n",
      "False\n",
      "True\n",
      "False\n"
     ]
    }
   ],
   "source": [
    "# Membership Operator\n",
    "\n",
    "# in and not in (used to test whether a vaule is in a sequence or not) sequence meaning string,list and tuple.\n",
    "# gives results in True or False.\n",
    "\n",
    "data_list = [2, 8, \"giri\", 9.2]\n",
    "print(20 in data_list)          # False because 20 is not in list.\n",
    "print(\"Giri\" in data_list)      # False because \"Giri\" is not in list (case sensitive)\n",
    "print(9.2 in data_list)         # True because 9.2 is in list\n",
    "\n",
    "print(8 not in data_list)       # False because 8 is in list"
   ]
  },
  {
   "cell_type": "code",
   "execution_count": 7,
   "metadata": {},
   "outputs": [
    {
     "name": "stdout",
     "output_type": "stream",
     "text": [
      "35\n",
      "True\n",
      "100.0\n",
      "1.0\n",
      "18446744073709551616\n"
     ]
    }
   ],
   "source": [
    "# Operator Precednce\n",
    "\n",
    "# ()                           left to right\n",
    "# **                           right to left\n",
    "# * % /                        left to right\n",
    "# + -                          left to right\n",
    "# << >>                        left to right\n",
    "# < <= >= >                    left to right\n",
    "# == !=                        left to right\n",
    "# is, is not, in, not in       left to right\n",
    "# not                          right to left\n",
    "# and                          left to right\n",
    "# or                           left to right\n",
    "\n",
    "# if the expression is of same precedence then , it can go either left to right or right to left as explained in above table.\n",
    "\n",
    "\n",
    "print(20 + 3 * 5)  # first it will multiply then add, as per precedence\n",
    "\n",
    "course = \"python\"\n",
    "marks = 40\n",
    "\n",
    "print(course == \"python\" or course ==\"Java\" and marks >= 38)   # as per precenence it carries out and then only it goes for or.\n",
    "\n",
    "\n",
    "print(80 / 8 * 10)   # same precedence so it goes from left to right and answer will be 100.0 \n",
    "print(10 * 8/ 80)    # same precedence so it goes from left to right and answer will be 1.0\n",
    "print(2 ** 4 ** 3)    # here it goes from right to left and answer will be printed"
   ]
  },
  {
   "cell_type": "code",
   "execution_count": null,
   "metadata": {},
   "outputs": [],
   "source": []
  }
 ],
 "metadata": {
  "interpreter": {
   "hash": "916dbcbb3f70747c44a77c7bcd40155683ae19c65e1c03b4aa3499c5328201f1"
  },
  "kernelspec": {
   "display_name": "Python 3.9.7 64-bit",
   "language": "python",
   "name": "python3"
  },
  "language_info": {
   "codemirror_mode": {
    "name": "ipython",
    "version": 3
   },
   "file_extension": ".py",
   "mimetype": "text/x-python",
   "name": "python",
   "nbconvert_exporter": "python",
   "pygments_lexer": "ipython3",
   "version": "3.9.7"
  },
  "orig_nbformat": 4
 },
 "nbformat": 4,
 "nbformat_minor": 2
}
