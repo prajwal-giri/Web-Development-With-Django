{
 "cells": [
  {
   "cell_type": "code",
   "execution_count": 1,
   "metadata": {},
   "outputs": [
    {
     "name": "stdout",
     "output_type": "stream",
     "text": [
      "the type of first_num is <class 'int'>\n",
      "the type of second_num is <class 'float'>\n",
      "60.5\n",
      "the type of total is <class 'float'>\n"
     ]
    }
   ],
   "source": [
    "# conversion of one datatype to another\n",
    "# implicit and explicit type conversion\n",
    "\n",
    "#Implicit type conversion\n",
    "\n",
    "# Python will automatically convert  one data type to another\n",
    "# Python will not convert data type if both types are the same\n",
    "\n",
    "first_num = 56\n",
    "print(f\"the type of first_num is {type(first_num)}\")  # first_num is integer data type\n",
    "\n",
    "second_num = 4.5\n",
    "print(f\"the type of second_num is {type(second_num)}\") # second_num is float data type\n",
    "\n",
    "first_num = first_num + second_num # here we are adding integer number to float number it automatically changes to float data types and gives result.\n",
    "\n",
    "print(first_num)\n",
    "print(f\"the type of total is {type(first_num)}\")"
   ]
  },
  {
   "cell_type": "code",
   "execution_count": 2,
   "metadata": {},
   "outputs": [],
   "source": [
    "# Explicit type Conversion\n",
    "\n",
    "# This type of conversion is manually changed by the user, using required funcion as below:\n",
    "\n",
    "# int()       => converts any data type to integer\n",
    "# float()     => converts any data type to float\n",
    "# str()       => converts any data type to string\n",
    "# list()      => converts any data type list\n",
    "# tuple()     => converts any data type to tuples\n",
    "# set()       => converts any data type to sets\n",
    "# dict()      => converts any data type to dictionaries"
   ]
  },
  {
   "cell_type": "code",
   "execution_count": 3,
   "metadata": {},
   "outputs": [
    {
     "name": "stdout",
     "output_type": "stream",
     "text": [
      "<class 'str'>\n",
      "<class 'int'>\n",
      "<class 'float'>\n"
     ]
    }
   ],
   "source": [
    "# Examples of Explicit type conversion\n",
    "\n",
    "x = \"5\"\n",
    "print(type(x))    # printing type of x\n",
    "\n",
    "num = int(x)      # converting type of x and assigning it to num varibale using int() function\n",
    "print(type(num))\n",
    "\n",
    "num1 = float(x)   # converting type of x and assigning it to num1 variable using float() funciton\n",
    "print(type(num1))"
   ]
  },
  {
   "cell_type": "code",
   "execution_count": 4,
   "metadata": {},
   "outputs": [
    {
     "name": "stdout",
     "output_type": "stream",
     "text": [
      "<class 'str'>\n",
      "<class 'int'>\n",
      "<class 'str'>\n",
      "246912\n",
      "<class 'int'>\n"
     ]
    }
   ],
   "source": [
    "first = \"123456\"\n",
    "second = 123456\n",
    "\n",
    "print(type(first))\n",
    "print(type(second))\n",
    "\n",
    "\n",
    "char = str(second)   # converting integer with second varibale into string and assigning it to char using str() function.\n",
    "print(type(char))\n",
    "\n",
    "\n",
    "sum = int(first) + second   # while adding we convert string variable first to integer , then we can perform addition\n",
    "print(sum) \n",
    "print(type(sum))"
   ]
  },
  {
   "cell_type": "code",
   "execution_count": 5,
   "metadata": {},
   "outputs": [
    {
     "name": "stdout",
     "output_type": "stream",
     "text": [
      "Django\n",
      "<class 'str'>\n",
      "['D', 'j', 'a', 'n', 'g', 'o']\n",
      "<class 'list'>\n",
      "('D', 'j', 'a', 'n', 'g', 'o')\n",
      "<class 'tuple'>\n",
      "{'j', 'D', 'a', 'g', 'n', 'o'}\n",
      "<class 'set'>\n"
     ]
    }
   ],
   "source": [
    "course = \"Django\"\n",
    "print(course)\n",
    "print(type(course))\n",
    "\n",
    "l = list(course)  # converting string to list using list() function\n",
    "print(l)\n",
    "print(type(l))\n",
    "\n",
    "t =tuple(course)  # converting string to tuple using tuple() function\n",
    "print(t)\n",
    "print(type(t))\n",
    "\n",
    "s = set(course)   # # converting string to set using set() function\n",
    "print(s)\n",
    "print(type(s))"
   ]
  },
  {
   "cell_type": "code",
   "execution_count": 6,
   "metadata": {},
   "outputs": [
    {
     "name": "stdout",
     "output_type": "stream",
     "text": [
      "(('a', 1), ('b', 2), ('c', 3))\n",
      "<class 'tuple'>\n",
      "{'a': 1, 'b': 2, 'c': 3}\n",
      "<class 'dict'>\n"
     ]
    }
   ],
   "source": [
    "tup = ((\"a\",1),(\"b\", 2),(\"c\", 3))\n",
    "print(tup)\n",
    "print(type(tup))\n",
    "\n",
    "d = dict(tup)   # converting tup tuple to dictionary using dict() function/can only be changed to dict if the data is organized in pairs.\n",
    "print(d)\n",
    "print(type(d))"
   ]
  },
  {
   "cell_type": "code",
   "execution_count": 7,
   "metadata": {},
   "outputs": [
    {
     "name": "stdout",
     "output_type": "stream",
     "text": [
      "['2', '3', '4']\n"
     ]
    }
   ],
   "source": [
    "s = \"234\"\n",
    "l = list(s)\n",
    "print(l)"
   ]
  },
  {
   "cell_type": "code",
   "execution_count": null,
   "metadata": {},
   "outputs": [],
   "source": []
  }
 ],
 "metadata": {
  "interpreter": {
   "hash": "916dbcbb3f70747c44a77c7bcd40155683ae19c65e1c03b4aa3499c5328201f1"
  },
  "kernelspec": {
   "display_name": "Python 3.9.7 64-bit",
   "language": "python",
   "name": "python3"
  },
  "language_info": {
   "codemirror_mode": {
    "name": "ipython",
    "version": 3
   },
   "file_extension": ".py",
   "mimetype": "text/x-python",
   "name": "python",
   "nbconvert_exporter": "python",
   "pygments_lexer": "ipython3",
   "version": "3.9.7"
  },
  "orig_nbformat": 4
 },
 "nbformat": 4,
 "nbformat_minor": 2
}
