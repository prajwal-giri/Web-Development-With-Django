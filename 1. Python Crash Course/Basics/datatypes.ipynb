{
 "cells": [
  {
   "cell_type": "code",
   "execution_count": 1,
   "metadata": {},
   "outputs": [],
   "source": [
    "# Data Types\n",
    "\n",
    "# 1 . Numberic\n",
    "    # a. Integer                 2, 4, 0, -2\n",
    "    # b. Float                   2.5, 854.8, 0.9, -28.45)\n",
    "    # c. Complex Number          1 + 2j\n",
    "# 2. Dictionary                  {\"a\":5,\"b\":6.8,\"c\":\"giri\"}           \n",
    "# 3. Boolean                     True   False\n",
    "# 4. Set                         {1,2,3,8}\n",
    "# 5. Sequence Data Type\n",
    "    # a. String                   \"5485\", \"prajwal\", \"a\"\n",
    "    # b. List                      [\"a\",2,3.5,\"green\",2]\n",
    "    # c. Tuple                     (\"a\",2,3.5,\"green\",2)"
   ]
  },
  {
   "cell_type": "code",
   "execution_count": 3,
   "metadata": {},
   "outputs": [
    {
     "name": "stdout",
     "output_type": "stream",
     "text": [
      "<class 'int'>\n",
      "<class 'float'>\n",
      "<class 'complex'>\n"
     ]
    }
   ],
   "source": [
    "# Numeric Type includes integer,float and complex numbers\n",
    "\n",
    "print(type(2))              # example of integer (whole numbers)\n",
    "print(type(3.9))            # example of float (with decimal number)\n",
    "print(type(1+5j))           # example of complex number(must include j)"
   ]
  },
  {
   "cell_type": "code",
   "execution_count": 4,
   "metadata": {},
   "outputs": [
    {
     "name": "stdout",
     "output_type": "stream",
     "text": [
      "<class 'dict'>\n",
      "<class 'dict'>\n",
      "25\n",
      "{'name': 'prajwal'}\n"
     ]
    }
   ],
   "source": [
    "# Dictionary Data type:\n",
    "# uses curly brackets,and has key with ordered paired values\n",
    "# paired items are separated by comma\n",
    "# key and value are separated by colon\n",
    "# key can only be string and cannot be repeated or changed\n",
    "# value can be any data type like integer,float,string,list,tuple and even dictionary, and can be repeated.\n",
    "\n",
    "d = {\"prajwal\":28,\"raju\":27,\"hari\":25}\n",
    "e = {\"x\":28.5,\"y\":[1,\"c\",8.9],\"z\":{\"name\":\"prajwal\"}}\n",
    "\n",
    "print(type(d))\n",
    "print(type(e))\n",
    "print(d[\"hari\"])            # to access the value from key \n",
    "print(e.get(\"z\"))           # to access the value from key "
   ]
  },
  {
   "cell_type": "code",
   "execution_count": 5,
   "metadata": {},
   "outputs": [
    {
     "name": "stdout",
     "output_type": "stream",
     "text": [
      "True\n",
      "False\n",
      "<class 'bool'>\n",
      "<class 'bool'>\n"
     ]
    }
   ],
   "source": [
    "# Boolean\n",
    "\n",
    "# True or False (0 or 1)\n",
    "\n",
    "is_eligible = True\n",
    "criminal_record = False\n",
    "\n",
    "print(is_eligible)\n",
    "print(criminal_record)\n",
    "\n",
    "print(type(is_eligible))\n",
    "print(type(criminal_record))"
   ]
  },
  {
   "cell_type": "code",
   "execution_count": 6,
   "metadata": {},
   "outputs": [
    {
     "name": "stdout",
     "output_type": "stream",
     "text": [
      "<class 'set'>\n",
      "{1, 2, 3}\n"
     ]
    }
   ],
   "source": [
    "# Set\n",
    "# unordered collection having no idex\n",
    "# immutable but with set() method , it can be mutable(* means with conditons)\n",
    "# no dublicate items\n",
    "\n",
    "\n",
    "a = {1,2,3,4}\n",
    "print(type(a))\n",
    "\n",
    "b = {1,2,2,3}\n",
    "print(set(b))         # set method removes the dublicate data."
   ]
  },
  {
   "cell_type": "code",
   "execution_count": 7,
   "metadata": {},
   "outputs": [
    {
     "name": "stdout",
     "output_type": "stream",
     "text": [
      "d\n",
      "n\n"
     ]
    }
   ],
   "source": [
    "# Sequence Data type\n",
    "\n",
    "# a. String\n",
    "# any value enclosed within ' ' or \" \" or \"\"\" \"\"\" or '''  ''' \n",
    "# ordered which means indexing can be done but cannot be changed\n",
    "\n",
    "x = \"django\"\n",
    "print(x[0])            # indexing starts from 0\n",
    "print(x[-3])           # negative indexing means it goes from backside."
   ]
  },
  {
   "cell_type": "code",
   "execution_count": 8,
   "metadata": {},
   "outputs": [
    {
     "name": "stdout",
     "output_type": "stream",
     "text": [
      "['apple', 'oranges', 'mangoes', 'banana']\n",
      "apple\n",
      "banana\n",
      "[5, 'oranges', 'mangoes', 'banana']\n"
     ]
    }
   ],
   "source": [
    "# b. List\n",
    " # ordered collection means indexing is possible and is mutable\n",
    " # can include any type of data inside\n",
    " # uses [] square brackets and items separated by comma\n",
    "\n",
    "mylist = [\"apple\", \"oranges\", \"mangoes\", \"banana\"]\n",
    "print(mylist)\n",
    "print(mylist[0])         # indexing starts from 0 \n",
    "print(mylist[-1])        # negative indexing means it goes from backside.\n",
    "\n",
    "# what separated list from strings is that, item in list can be changed after it is created.\n",
    "\n",
    "mylist[0] = 5              # here we have replaced \"apple\" on list which is in index 0 with integer 5\n",
    "print(mylist)"
   ]
  },
  {
   "cell_type": "code",
   "execution_count": 9,
   "metadata": {},
   "outputs": [
    {
     "name": "stdout",
     "output_type": "stream",
     "text": [
      "(1, 2, 2, 4, 5)\n",
      "1\n",
      "5\n",
      "4\n"
     ]
    }
   ],
   "source": [
    "# tuple\n",
    "# ordered list means having indexing\n",
    "# any time of data inside\n",
    "# cannot be changed after created.\n",
    "# can have dublicate items.\n",
    "# uses parenthesis\n",
    "\n",
    "t = (1,2,2,4,5)\n",
    "print(t)\n",
    "print(t[0])\n",
    "print(t[-1])\n",
    "print(t[3])"
   ]
  }
 ],
 "metadata": {
  "interpreter": {
   "hash": "916dbcbb3f70747c44a77c7bcd40155683ae19c65e1c03b4aa3499c5328201f1"
  },
  "kernelspec": {
   "display_name": "Python 3.9.7 64-bit",
   "language": "python",
   "name": "python3"
  },
  "language_info": {
   "codemirror_mode": {
    "name": "ipython",
    "version": 3
   },
   "file_extension": ".py",
   "mimetype": "text/x-python",
   "name": "python",
   "nbconvert_exporter": "python",
   "pygments_lexer": "ipython3",
   "version": "3.9.8"
  },
  "orig_nbformat": 4
 },
 "nbformat": 4,
 "nbformat_minor": 2
}
