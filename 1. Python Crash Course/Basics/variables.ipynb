{
 "cells": [
  {
   "cell_type": "code",
   "execution_count": 1,
   "metadata": {},
   "outputs": [
    {
     "name": "stdout",
     "output_type": "stream",
     "text": [
      "<class 'int'>\n",
      "<class 'float'>\n",
      "<class 'complex'>\n",
      "<class 'str'>\n",
      "<class 'str'>\n"
     ]
    }
   ],
   "source": [
    "a = 78                    # assigning integer value 78 to variable name a.\n",
    "print(type(a))            # calling out print() function to print the data type of varibale a. \n",
    "\n",
    "b = 8.9                   # assigning float value 8.9 to variable name b.\n",
    "print(type(b))            # calling out print() function to print the data type of varibale b. \n",
    "\n",
    "c = 1 + 3j                # assigning complex value 1 + 3j to variable name c.\n",
    "print(type(c))            # calling out print() function to print the data type of varibale c.\n",
    "\n",
    "d = \"prajwal\"             # assigning string value \"Prajwal\" to variable name d.\n",
    "print(type(d))            # calling out print() function to print the data type of varibale d.\n",
    "\n",
    "e = \"8.5\"                 # assigning string value \"8.5\" to variable name e.\n",
    "print(type(e))             # calling out print() function to print the data type of varibale e."
   ]
  },
  {
   "cell_type": "code",
   "execution_count": 2,
   "metadata": {},
   "outputs": [],
   "source": [
    "# NOTES :   RULES FOR NAMING VARIBALE\n",
    "# 1  variable name must start with letter or underscore _\n",
    "# 2  variable name cannot start with number\n",
    "# 3  cannot include any other signs like @#$%^ etc.\n",
    "# 4  cannot use any keyword for variable names.\n",
    "# 5  variable names are case sensitive  i.e a and A are different."
   ]
  },
  {
   "cell_type": "code",
   "execution_count": 3,
   "metadata": {},
   "outputs": [
    {
     "name": "stdout",
     "output_type": "stream",
     "text": [
      "2.5\n",
      "raju\n",
      "29\n"
     ]
    }
   ],
   "source": [
    "\n",
    "# redeclaring the variables\n",
    "gpa = 2.5                                                    \n",
    "name = \"raju\"\n",
    "age = 29\n",
    "\n",
    "# for printing out \n",
    "print(gpa)\n",
    "print(name)\n",
    "print(age)"
   ]
  },
  {
   "cell_type": "code",
   "execution_count": 4,
   "metadata": {},
   "outputs": [
    {
     "name": "stdout",
     "output_type": "stream",
     "text": [
      "28\n",
      "28\n",
      "28\n",
      "28\n"
     ]
    }
   ],
   "source": [
    "# assigning a single value to multiple varibales\n",
    "\n",
    "a = b = c = d = 28    # assigns values from right and put it on left. 28 int value goes to d then d value goes to c and so on.\n",
    "                      # and every varibale gets the value 28.\n",
    "\n",
    "print(a)\n",
    "print(b)\n",
    "print(c)\n",
    "print(d)     "
   ]
  },
  {
   "cell_type": "code",
   "execution_count": 5,
   "metadata": {},
   "outputs": [
    {
     "name": "stdout",
     "output_type": "stream",
     "text": [
      "2\n",
      "5.8\n",
      "giri\n",
      "True\n"
     ]
    }
   ],
   "source": [
    "#Assigning different values to multiple variables in a single line:\n",
    "\n",
    "a, b, c, d = 2, 5.8, \"giri\", True   # assigning a,b,c,d variable with value 2,5.8,\"giri\", True respectively.\n",
    "\n",
    "print(a)\n",
    "print(b)\n",
    "print(c)\n",
    "print(d)"
   ]
  },
  {
   "cell_type": "code",
   "execution_count": 6,
   "metadata": {},
   "outputs": [
    {
     "name": "stdout",
     "output_type": "stream",
     "text": [
      "giri\n"
     ]
    }
   ],
   "source": [
    "# using same varibale name for different data types.\n",
    "\n",
    "a = 10            # first 10 is assigned to a\n",
    "a = \"giri\"        # second \"giri\" is assigned to a so now the value of a changes to \"giri\"\n",
    "\n",
    "print(a)"
   ]
  },
  {
   "cell_type": "code",
   "execution_count": 7,
   "metadata": {},
   "outputs": [
    {
     "name": "stdout",
     "output_type": "stream",
     "text": [
      "40\n",
      "Prajwal\n"
     ]
    }
   ],
   "source": [
    "# using + operator to work with variable\n",
    "\n",
    "x = 10\n",
    "y = 30\n",
    "print(x + y)          # + operator with integer/floats does mathematical calculations and gives us the result \n",
    "\n",
    "first_part = \"Praj\"\n",
    "second_part = \"wal\"\n",
    "print(first_part + second_part)    # + operator with strings adds(brings) the strings together as printed in below output.(Also called concatenation)\n",
    "\n",
    "# notes: + doesnot work if both are of different data types"
   ]
  },
  {
   "cell_type": "code",
   "execution_count": 8,
   "metadata": {},
   "outputs": [
    {
     "name": "stdout",
     "output_type": "stream",
     "text": [
      "python 85 85\n"
     ]
    }
   ],
   "source": [
    "x = 85        # assigning value 85 to x. now x value is 85.\n",
    "y = x         # assigning value of x  to y. now y value is 85.\n",
    "z = x         # assigning value of x  to z. now z value is 85.\n",
    "x = \"python\"  # assigning value of x to \"python\"  now x value is string \"python\"\n",
    "\n",
    "print(x,y,z)    # printing on same line using , which causes space between the results."
   ]
  },
  {
   "cell_type": "code",
   "execution_count": null,
   "metadata": {},
   "outputs": [],
   "source": []
  }
 ],
 "metadata": {
  "interpreter": {
   "hash": "916dbcbb3f70747c44a77c7bcd40155683ae19c65e1c03b4aa3499c5328201f1"
  },
  "kernelspec": {
   "display_name": "Python 3.9.7 64-bit",
   "language": "python",
   "name": "python3"
  },
  "language_info": {
   "codemirror_mode": {
    "name": "ipython",
    "version": 3
   },
   "file_extension": ".py",
   "mimetype": "text/x-python",
   "name": "python",
   "nbconvert_exporter": "python",
   "pygments_lexer": "ipython3",
   "version": "3.9.7"
  },
  "orig_nbformat": 4
 },
 "nbformat": 4,
 "nbformat_minor": 2
}
