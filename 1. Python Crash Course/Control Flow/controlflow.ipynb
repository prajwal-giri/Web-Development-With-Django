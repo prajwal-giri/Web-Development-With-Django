{
 "cells": [
  {
   "cell_type": "code",
   "execution_count": 1,
   "metadata": {},
   "outputs": [
    {
     "name": "stdout",
     "output_type": "stream",
     "text": [
      "False\n",
      "False\n",
      "True\n"
     ]
    }
   ],
   "source": [
    "# Boolean Expressions\n",
    "\n",
    "# either True or False\n",
    "\n",
    "num1 = 25\n",
    "num2 = 31\n",
    "\n",
    "print(num1 > num2)                # false as 25 greater than 31 is false\n",
    "print(num1 == 25 and num2 !=31)   # false as num2 not equals to 31 is false/in and condition if one is false then statement is false\n",
    "print(num1 > 50 or num2 <=31)     # True as num2 <= 31 condition is true/in or condition if one ist true statement is true."
   ]
  },
  {
   "cell_type": "code",
   "execution_count": 2,
   "metadata": {},
   "outputs": [
    {
     "name": "stdout",
     "output_type": "stream",
     "text": [
      "You are eligible for voting\n",
      "Have a good day! Bye Bye\n"
     ]
    }
   ],
   "source": [
    "# indentation(space below the if/for/while/etc. statements ) # usually a tab space\n",
    "\n",
    "# if/else statements\n",
    "\n",
    "age = 25\n",
    "if age >= 18:\n",
    "    print(\"You are eligible for voting\")\n",
    "else:\n",
    "    print(\"sorry you are not eligible for voting\")\n",
    "    print(\"come back when you reach 18 years of age\")\n",
    "print(\"Have a good day! Bye Bye\")"
   ]
  },
  {
   "cell_type": "code",
   "execution_count": 3,
   "metadata": {},
   "outputs": [
    {
     "name": "stdout",
     "output_type": "stream",
     "text": [
      "sorry you failed\n",
      "Try harder for final term\n",
      "Notice: New classes will resume from 25 January.\n"
     ]
    }
   ],
   "source": [
    "#if/elif/else\n",
    "\n",
    "marks = 25\n",
    "if marks >= 60:\n",
    "    print(\"you have passed in first division\")\n",
    "elif marks >=50:\n",
    "    print(\"you have passed in second division\")\n",
    "elif marks >=40:\n",
    "    print(\"you have passed in third division\")\n",
    "else:\n",
    "    print(\"sorry you failed\")\n",
    "    print(\"Try harder for final term\")\n",
    "print(\"Notice: New classes will resume from 25 January.\")"
   ]
  },
  {
   "cell_type": "code",
   "execution_count": 4,
   "metadata": {},
   "outputs": [
    {
     "name": "stdout",
     "output_type": "stream",
     "text": [
      "P\n",
      "y\n",
      "t\n",
      "h\n",
      "o\n",
      "n\n"
     ]
    }
   ],
   "source": [
    "# for loop\n",
    "# used for iterating  string,list,tuple etc.\n",
    "\n",
    "# iterating over string\n",
    "\n",
    "course = \"Python\"\n",
    "for letter in course:\n",
    "    print(letter)"
   ]
  },
  {
   "cell_type": "code",
   "execution_count": 5,
   "metadata": {},
   "outputs": [
    {
     "name": "stdout",
     "output_type": "stream",
     "text": [
      "apple\n",
      "eggs\n",
      "milk\n",
      "oil\n",
      "bread\n",
      "rice\n"
     ]
    }
   ],
   "source": [
    "# iterating over list\n",
    "\n",
    "groceries = [\"apple\", \"eggs\", \"milk\", \"oil\", \"bread\", \"rice\"]\n",
    "for item in groceries:\n",
    "    print(item)"
   ]
  },
  {
   "cell_type": "code",
   "execution_count": 6,
   "metadata": {},
   "outputs": [
    {
     "name": "stdout",
     "output_type": "stream",
     "text": [
      "nepal\n",
      "bhutan\n",
      "india\n",
      "china\n"
     ]
    }
   ],
   "source": [
    "# iterating over tuple\n",
    "\n",
    "asia = (\"nepal\",\"bhutan\",\"india\",\"china\")\n",
    "for country in asia:\n",
    "    print(country)"
   ]
  },
  {
   "cell_type": "code",
   "execution_count": 7,
   "metadata": {},
   "outputs": [
    {
     "name": "stdout",
     "output_type": "stream",
     "text": [
      "id : 1\n",
      "name : hari\n",
      "age : 22\n",
      "address : birtamode jhapa\n"
     ]
    }
   ],
   "source": [
    "# iterating over dictionaries\n",
    "\n",
    "profile1 = {\"id\": 1, \"name\": \"hari\", \"age\": 22, \"address\":\"birtamode jhapa\"} \n",
    "for header in profile1:\n",
    "    print(f\"{header} : {profile1[header]}\")"
   ]
  },
  {
   "cell_type": "code",
   "execution_count": 8,
   "metadata": {},
   "outputs": [
    {
     "name": "stdout",
     "output_type": "stream",
     "text": [
      "Hello count number 1\n",
      "Hello count number 2\n",
      "Hello count number 3\n",
      "Hello count number 4\n",
      "Hello count number 5\n"
     ]
    }
   ],
   "source": [
    "# while \n",
    "\n",
    "count = 0\n",
    "while count < 5:\n",
    "    count = count + 1\n",
    "    print(f\"Hello count number {count}\")"
   ]
  },
  {
   "cell_type": "code",
   "execution_count": 9,
   "metadata": {},
   "outputs": [
    {
     "name": "stdout",
     "output_type": "stream",
     "text": [
      "2\n",
      "3\n",
      "green\n",
      "organge\n",
      "8.9\n",
      "Finished\n"
     ]
    }
   ],
   "source": [
    "# break\n",
    "# used to go out from the loop\n",
    "\n",
    "random_list = [2, 3, \"green\", \"organge\", 8.9, \"bread\"]\n",
    "for item in random_list:\n",
    "    print(item)\n",
    "    if item == 8.9:\n",
    "        break\n",
    "print(\"Finished\")"
   ]
  },
  {
   "cell_type": "code",
   "execution_count": 10,
   "metadata": {},
   "outputs": [
    {
     "name": "stdout",
     "output_type": "stream",
     "text": [
      "2\n",
      "3\n",
      "green\n",
      "organge\n",
      "bread\n",
      "Finished\n"
     ]
    }
   ],
   "source": [
    "# continue (continue to the similar loop ignoring the down)\n",
    "\n",
    "random_list = [2, 3, \"green\", \"organge\", 8.9, \"bread\"]\n",
    "for item in random_list:\n",
    "    if item == 8.9:\n",
    "        continue\n",
    "    print(item)\n",
    "print(\"Finished\")"
   ]
  },
  {
   "cell_type": "code",
   "execution_count": 11,
   "metadata": {},
   "outputs": [
    {
     "name": "stdout",
     "output_type": "stream",
     "text": [
      "o\n",
      "r\n",
      "a\n",
      "g\n",
      "e\n"
     ]
    }
   ],
   "source": [
    "# pass (to do nothing)\n",
    "\n",
    "word = \"orange\"\n",
    "for letter in word:\n",
    "    if letter == \"n\":\n",
    "        pass\n",
    "    else:\n",
    "        print(letter)"
   ]
  },
  {
   "cell_type": "code",
   "execution_count": null,
   "metadata": {},
   "outputs": [],
   "source": []
  }
 ],
 "metadata": {
  "interpreter": {
   "hash": "916dbcbb3f70747c44a77c7bcd40155683ae19c65e1c03b4aa3499c5328201f1"
  },
  "kernelspec": {
   "display_name": "Python 3.9.7 64-bit",
   "language": "python",
   "name": "python3"
  },
  "language_info": {
   "codemirror_mode": {
    "name": "ipython",
    "version": 3
   },
   "file_extension": ".py",
   "mimetype": "text/x-python",
   "name": "python",
   "nbconvert_exporter": "python",
   "pygments_lexer": "ipython3",
   "version": "3.9.7"
  },
  "orig_nbformat": 4
 },
 "nbformat": 4,
 "nbformat_minor": 2
}
