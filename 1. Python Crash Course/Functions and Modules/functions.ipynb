{
 "cells": [
  {
   "cell_type": "code",
   "execution_count": 1,
   "metadata": {},
   "outputs": [],
   "source": [
    "# TYPES OF FUNCTIONS\n",
    "\n",
    "# Built in Functions\n",
    "# Functions which are pre -built in python and comes along with the installation of Python are called Built in Functions.\n",
    "# Some pre-built functions only works after it's files are imported as a modules."
   ]
  },
  {
   "cell_type": "code",
   "execution_count": 2,
   "metadata": {},
   "outputs": [],
   "source": [
    "# # # Examples of Built in Functions\n",
    "\n",
    "# # print()     input()  int()      float()     bool()      str()       list()      dict()\n",
    "# # tuple()     set()    complex()  abs()       dir()       bin()       ord()       map()    \n",
    "# # filter()    range()  format()   max()       min()       round()     sum()       type()\n",
    "# # len()"
   ]
  },
  {
   "cell_type": "code",
   "execution_count": 3,
   "metadata": {},
   "outputs": [
    {
     "name": "stdout",
     "output_type": "stream",
     "text": [
      "3\n",
      "80\n",
      "97\n",
      "a\n",
      "1\n",
      "c\n",
      "9\n"
     ]
    }
   ],
   "source": [
    "print(round(2.6))        # rounds the number\n",
    "print(abs(-80))          # gives the abstract\n",
    "print(ord(\"a\"))          # convert to an integer assigned to the assci value       \n",
    "print(chr(97))           # convert into ascii code.(opposite of ord())\n",
    "print(min(1,2,3))        # returns the smallest item in iterable\n",
    "print(max(\"abc\"))        # returns the largest item in iterable\n",
    "print(sum((2,3,4)))      # sums the items of iterable"
   ]
  },
  {
   "cell_type": "code",
   "execution_count": 4,
   "metadata": {},
   "outputs": [],
   "source": [
    "# User defined Functions\n",
    "\n",
    "# These functions are made by user, for further use. Functions are usually made for program to be a easy solution.\n",
    "\n",
    "# Syntax :\n",
    "\n",
    "def function_name(parameters):   # function_name (is a varibale name for a function) parameters are also varibale that takes an argument.                                             \n",
    "    \"\"\"code to work as per need\"\"\"         # code written here after indentation works after function is called.    \n",
    "    return #expression                     # to retrun the value of code above,or we can use print as well as per our need."
   ]
  },
  {
   "cell_type": "code",
   "execution_count": 5,
   "metadata": {},
   "outputs": [
    {
     "name": "stdout",
     "output_type": "stream",
     "text": [
      "Welcome to the Web Development Course With Django\n"
     ]
    }
   ],
   "source": [
    "# Creating a simple function (example:)\n",
    "\n",
    "def course():                        # creating a function with name \"course\"\n",
    "    print(\"Welcome to the Web Development Course With Django\")        # program to execute for this specific function.\n",
    "\n",
    "# calling a function\n",
    "course()             "
   ]
  },
  {
   "cell_type": "code",
   "execution_count": 6,
   "metadata": {},
   "outputs": [
    {
     "name": "stdout",
     "output_type": "stream",
     "text": [
      "You are 20 years old.\n"
     ]
    }
   ],
   "source": [
    "# Function with a single argument.\n",
    "\n",
    "def user_age(age):               # creating a function with name user_age with a parameter age: which expects an argument.\n",
    "    print(f\"You are {age} years old.\")     # code/program to execute when we call this function.\n",
    "\n",
    "\n",
    "user_age(20)            # calling function user_age() and giving it an argument."
   ]
  },
  {
   "cell_type": "code",
   "execution_count": 7,
   "metadata": {},
   "outputs": [
    {
     "name": "stdout",
     "output_type": "stream",
     "text": [
      "raju nepal lives in kathmandu.\n"
     ]
    }
   ],
   "source": [
    "# function with more than 1 argument.\n",
    "\n",
    "# function to ask user their address/giving an argument of their first and last name and printing out as below.\n",
    "# Prajwal Giri lives in Birtamode.\n",
    "\n",
    "def user_info(first,last):\n",
    "    address = input(\"Enter your address: \")\n",
    "    print(f\"{first} {last} lives in {address}.\")\n",
    "\n",
    "user_info(\"raju\", \"nepal\")           # calling function and giving argument for both first and last parameters."
   ]
  },
  {
   "cell_type": "code",
   "execution_count": 8,
   "metadata": {},
   "outputs": [
    {
     "name": "stdout",
     "output_type": "stream",
     "text": [
      "You live in mars.\n",
      "You live in earth.\n"
     ]
    }
   ],
   "source": [
    "# function with default argument.\n",
    "\n",
    "# When we write a function with parameters, and as it expects an argument, sometimes user fails to do so,then program \n",
    "# gets error and doesn't runs so default argument becomes helpful here.\n",
    "\n",
    "# Example:\n",
    "\n",
    "def solar_systems(planet = \"earth\"):        # creating function with defualt argument as \"earth\".\n",
    "    print(f\"You live in {planet}.\")\n",
    "\n",
    "\n",
    "solar_systems(\"mars\")           # giving an argument to planet parameter.\n",
    "solar_systems()                 # here not giving an argument, prints out the defualt arguments instead of error"
   ]
  },
  {
   "cell_type": "code",
   "execution_count": 9,
   "metadata": {},
   "outputs": [
    {
     "name": "stdout",
     "output_type": "stream",
     "text": [
      "student id:3597 name:Raju Mistra from section C roll no 58 of age 18 has scored 98 marks.\n"
     ]
    }
   ],
   "source": [
    "# function with keyword argument.\n",
    "\n",
    "# keyword argument syntax similar to default argument, but instead of giving argument when defining the function,we\n",
    "# give argument while calling the function.\n",
    "\n",
    "# Example:\n",
    "\n",
    "# here we have function name student, with lots of parameters.\n",
    "\n",
    "def student(id,first_name,last_name,age,grade,section,rollno):\n",
    "    print(f\"student id:{id} name:{first_name} {last_name} from section {section} roll no {rollno} of age {age} has scored {grade} marks.\")\n",
    "\n",
    "\n",
    "\n",
    "# here we use keyword argument, because it is easy to match the arguements with parameter, rather than putting in respectively.\n",
    "# also when we use keyword argument, we can give argument in any order.\n",
    "\n",
    "student(id = 3597, first_name=\"Raju\",section = \"C\", grade = 98, rollno = 58,age = 18, last_name=\"Mistra\")"
   ]
  },
  {
   "cell_type": "code",
   "execution_count": 10,
   "metadata": {},
   "outputs": [],
   "source": [
    "# variable lengths arguments\n",
    "\n",
    "# when we have multiple or unknown number of arguments coming from user,it is impossible for us to define no of parameters,\n",
    "#  so use args.\n",
    "\n",
    "# *args\n",
    "# The *args returns tuple."
   ]
  },
  {
   "cell_type": "code",
   "execution_count": 11,
   "metadata": {},
   "outputs": [
    {
     "name": "stdout",
     "output_type": "stream",
     "text": [
      "Java\n",
      "Python\n",
      "Javascript\n"
     ]
    }
   ],
   "source": [
    "# Example:\n",
    "\n",
    "def all_courses(*courses_names):\n",
    "        for course in courses_names:\n",
    "            print(course)\n",
    "\n",
    "all_courses(\"Java\", \"Python\",\"Javascript\")"
   ]
  },
  {
   "cell_type": "code",
   "execution_count": 12,
   "metadata": {},
   "outputs": [
    {
     "name": "stdout",
     "output_type": "stream",
     "text": [
      "apple\n",
      "True\n",
      "2.8\n",
      "-5\n",
      "0\n",
      "7\n"
     ]
    }
   ],
   "source": [
    "def all_data(*datas):\n",
    "    for data in datas:\n",
    "        print(data)\n",
    "\n",
    "all_data(\"apple\", True, 2.8 , -5 , 0, 7)"
   ]
  },
  {
   "cell_type": "code",
   "execution_count": 13,
   "metadata": {},
   "outputs": [
    {
     "name": "stdout",
     "output_type": "stream",
     "text": [
      "24 5040 3600\n"
     ]
    }
   ],
   "source": [
    "# class example for *args\n",
    "\n",
    "def mult(*a):\n",
    "    result = 1\n",
    "    for num in a:\n",
    "        result = num * result\n",
    "    return result\n",
    "\n",
    "d1 = mult(1,2,3,4) \n",
    "d2 = mult(2,4,3,5,6,7)\n",
    "d3 = mult(5,10,4,2,9)   \n",
    "print(d1,d2,d3)"
   ]
  },
  {
   "cell_type": "code",
   "execution_count": 14,
   "metadata": {},
   "outputs": [
    {
     "name": "stdout",
     "output_type": "stream",
     "text": [
      "{'suraj': 20, 'raju': 22, 'sandesh': 42, 'manoj': 28}\n"
     ]
    }
   ],
   "source": [
    "# **kwargs \n",
    "\n",
    "# **kwargs returns as dictionary, the names as keys and value as values.\n",
    "# Its argument syntax will be similar to keyword/default argument.\n",
    "\n",
    "# Example:\n",
    "\n",
    "def name_age(**info):\n",
    "    print(info)\n",
    "    \n",
    "name_age(suraj = 20, raju = 22, sandesh = 42, manoj = 28)"
   ]
  },
  {
   "cell_type": "code",
   "execution_count": 15,
   "metadata": {},
   "outputs": [],
   "source": [
    "# Functions that retruns.\n",
    "\n",
    "# Till now we learnt about function and printing the value, but if we just want to retrun the value and use it later,\n",
    "# we use retrun function.\n",
    "# retrun value can be saved into variable and we can keep it for further use."
   ]
  },
  {
   "cell_type": "code",
   "execution_count": 16,
   "metadata": {},
   "outputs": [
    {
     "name": "stdout",
     "output_type": "stream",
     "text": [
      "10\n"
     ]
    }
   ],
   "source": [
    "# Example:\n",
    "\n",
    "def sum(a,b):\n",
    "    return a + b               # this function adds a and b , then returns the value.\n",
    "\n",
    "result = sum(2,8)    # calling sum function, result will only retrun doesn't get printed, so we assign in a varibale result.\n",
    "print(result)        # now we print the varibale."
   ]
  },
  {
   "cell_type": "code",
   "execution_count": 17,
   "metadata": {},
   "outputs": [
    {
     "name": "stdout",
     "output_type": "stream",
     "text": [
      "Hi, Vivek Welcome to the Python Course\n"
     ]
    }
   ],
   "source": [
    "\n",
    "def greetings(name):\n",
    "    return f\"Hi, {name} Welcome to the Python Course\"\n",
    "\n",
    "greeting1 = greetings(\"Vivek\")      # retruns value from greetings() and kept in varibale greeting1\n",
    "greeting2 = greetings(\"Aditi\")      # retruns value from greetings() and kept in varibale greeting2\n",
    "print(greeting1)                    # only printing greeting1 / greeting2 can be used further if necessary."
   ]
  },
  {
   "cell_type": "code",
   "execution_count": 18,
   "metadata": {},
   "outputs": [
    {
     "name": "stdout",
     "output_type": "stream",
     "text": [
      "3 is odd number\n",
      "8 is even number\n"
     ]
    }
   ],
   "source": [
    "# Example 3\n",
    "\n",
    "def even_odd(num):\n",
    "    if num % 2 == 0:\n",
    "        return(f\"{num} is even number\")\n",
    "    return(f\"{num} is odd number\")\n",
    "        \n",
    "\n",
    "# returing value is kept in varible.\n",
    "result1 = even_odd(3)    \n",
    "result2 = even_odd(8)\n",
    "result3 = even_odd(13)\n",
    "\n",
    "# printing only required results.\n",
    "print(result1)\n",
    "print(result2)"
   ]
  },
  {
   "cell_type": "code",
   "execution_count": 19,
   "metadata": {},
   "outputs": [
    {
     "name": "stdout",
     "output_type": "stream",
     "text": [
      "Amazon\n",
      "local varibale result: Daraz with service of 5 years.\n"
     ]
    }
   ],
   "source": [
    "#  Global and Local Variables:\n",
    "\n",
    "# Global variable is used globally, it is usually(assigned) outside of user define function.\n",
    "# Local variable is assigned inside of user defined functions.\n",
    "\n",
    "def e_commerce():\n",
    "    business = \"Daraz\"            # example of local variable.\n",
    "    return f\"local varibale result: {business} with service of {years} years.\"  # here global varibale  years is accessed inside function\n",
    "\n",
    "years = 5\n",
    "business = \"Amazon\"  #  # example of global varibale. \n",
    "print(business)   \n",
    "business = e_commerce()\n",
    "print(business)"
   ]
  },
  {
   "cell_type": "code",
   "execution_count": 20,
   "metadata": {},
   "outputs": [],
   "source": [
    "# lambda fuction:\n",
    "\n",
    "# lambda() is used to write short code in 1 line.\n",
    "# no name is required for function.\n",
    "# can take any number of arguments(parameter can be defined any number)\n",
    "# but with only one expression. usually used in Maths\n",
    "# a function that takes in other functions as arguments"
   ]
  },
  {
   "cell_type": "code",
   "execution_count": 21,
   "metadata": {},
   "outputs": [
    {
     "name": "stdout",
     "output_type": "stream",
     "text": [
      "25\n",
      "25\n"
     ]
    }
   ],
   "source": [
    " # Example:\n",
    "\n",
    "def squares(num):\n",
    "    return num * num   # normal function\n",
    "\n",
    "sq_result = squares(5)\n",
    "print(sq_result)\n",
    "\n",
    "\n",
    "sq1_result = lambda num:num * num         # lambda function\n",
    "print(sq1_result(5))\n",
    "\n",
    "# result is same below."
   ]
  },
  {
   "cell_type": "code",
   "execution_count": 22,
   "metadata": {},
   "outputs": [
    {
     "name": "stdout",
     "output_type": "stream",
     "text": [
      "21\n",
      "21\n"
     ]
    }
   ],
   "source": [
    "# lambda function example 2:\n",
    "\n",
    "def add(a,b,c):                   # using normal function\n",
    "    return a + b + c\n",
    "\n",
    "addition1 = add(5,7,9)               \n",
    "print(addition1)\n",
    "\n",
    "\n",
    "addition2 = lambda a, b, c :a + b + c        # using lambda function\n",
    "print(addition2(5,7,9))"
   ]
  },
  {
   "cell_type": "code",
   "execution_count": 23,
   "metadata": {},
   "outputs": [],
   "source": [
    "# # lambda function with map\n",
    "\n",
    "# # map(function, sequence)  this syntax means,  go through all the individual data in sequence and \n",
    "# apply the function\n",
    "\n",
    "# map() is used  usually when we have to deal with all the data in sequence,we use map and we dont have to use for loop."
   ]
  },
  {
   "cell_type": "code",
   "execution_count": 24,
   "metadata": {},
   "outputs": [
    {
     "name": "stdout",
     "output_type": "stream",
     "text": [
      "[240000, 264000, 186000, 213600, 336000, 528000, 144000, 222000]\n"
     ]
    }
   ],
   "source": [
    "# map with lambda example.\n",
    "# to multiply all the data by 12 from a list.\n",
    "\n",
    "monthly_salary = [20000, 22000, 15500, 17800, 28000, 44000, 12000, 18500]\n",
    "\n",
    "yearly_salary =  list(map(lambda a:a*12,monthly_salary))\n",
    "\n",
    "print(yearly_salary)"
   ]
  },
  {
   "cell_type": "code",
   "execution_count": 25,
   "metadata": {},
   "outputs": [
    {
     "name": "stdout",
     "output_type": "stream",
     "text": [
      "('PP', 'yy', 'tt', 'hh', 'oo', 'nn')\n"
     ]
    }
   ],
   "source": [
    "# example of map() with lambda\n",
    "# To dublicate each character and put on a tuple\n",
    "\n",
    "word = \"Python\"\n",
    "double_word = tuple(map(lambda a:a+a,word))\n",
    "print(double_word)"
   ]
  },
  {
   "cell_type": "code",
   "execution_count": 26,
   "metadata": {},
   "outputs": [],
   "source": [
    "# lambda with filter()\n",
    "# syntax:\n",
    "# filter(function,sequence)\n",
    "\n",
    "# filter is also similar to map, it goes each data in sequence, but instead of performing on them, it usually filters \n",
    "# or checks with the help of  boolean expressions and gives out the result."
   ]
  },
  {
   "cell_type": "code",
   "execution_count": 27,
   "metadata": {},
   "outputs": [
    {
     "name": "stdout",
     "output_type": "stream",
     "text": [
      "names starting with a is  ['aditi', 'anil']\n",
      "names not starting with a is ['prajwal', 'season', 'rajan']\n"
     ]
    }
   ],
   "source": [
    "# example:\n",
    "\n",
    "# to filter out other names except starting with a.\n",
    "# to filter out name starting with a.\n",
    "\n",
    "names = [\"aditi\", \"prajwal\", \"season\", \"anil\", \"rajan\"]\n",
    "\n",
    "with_a = list(filter(lambda a:(a[0] == \"a\"),names))\n",
    "without_a = list(filter(lambda a:(a[0] != \"a\"),names))\n",
    "\n",
    "print(f\"names starting with a is  {with_a}\")\n",
    "print(f\"names not starting with a is {without_a}\")"
   ]
  },
  {
   "cell_type": "code",
   "execution_count": 28,
   "metadata": {},
   "outputs": [
    {
     "name": "stdout",
     "output_type": "stream",
     "text": [
      "['a', 'e', 'i', 'o', 'd', 'r', 'u', 'a', 'i', 'l', 'm']\n"
     ]
    }
   ],
   "source": [
    "# filtering out s from the word.\n",
    "\n",
    "word = \"aseiosdrsuasilm\"\n",
    "\n",
    "word_without_s = list(filter(lambda x:x!=\"s\",word))\n",
    "print(word_without_s)"
   ]
  },
  {
   "cell_type": "code",
   "execution_count": 29,
   "metadata": {},
   "outputs": [
    {
     "name": "stdout",
     "output_type": "stream",
     "text": [
      "(2, 8, 10)\n"
     ]
    }
   ],
   "source": [
    "# filtering odd numbers:\n",
    "\n",
    "num = [2, 5, 7, 8, 10, 15]\n",
    "even_num = tuple(filter(lambda d: d % 2 == 0, num))\n",
    "print(even_num)"
   ]
  }
 ],
 "metadata": {
  "interpreter": {
   "hash": "916dbcbb3f70747c44a77c7bcd40155683ae19c65e1c03b4aa3499c5328201f1"
  },
  "kernelspec": {
   "display_name": "Python 3.9.7 64-bit",
   "language": "python",
   "name": "python3"
  },
  "language_info": {
   "codemirror_mode": {
    "name": "ipython",
    "version": 3
   },
   "file_extension": ".py",
   "mimetype": "text/x-python",
   "name": "python",
   "nbconvert_exporter": "python",
   "pygments_lexer": "ipython3",
   "version": "3.9.7"
  },
  "orig_nbformat": 4
 },
 "nbformat": 4,
 "nbformat_minor": 2
}
