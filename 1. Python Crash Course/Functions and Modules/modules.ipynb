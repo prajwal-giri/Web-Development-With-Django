{
 "cells": [
  {
   "cell_type": "code",
   "execution_count": 1,
   "metadata": {},
   "outputs": [],
   "source": [
    "#  Modules:\n",
    "\n",
    "# Module is a .py file that contains functions,variables and classes.\n",
    "# external modules are installed using pip.\n",
    "\n",
    "# Types of Modules\n",
    "# Built in Modules \n",
    "# User Defined Modules"
   ]
  },
  {
   "cell_type": "code",
   "execution_count": 3,
   "metadata": {},
   "outputs": [
    {
     "name": "stdout",
     "output_type": "stream",
     "text": [
      "14\n",
      "Hello rajan ,Welcome to the Python Course!\n",
      "13.5\n"
     ]
    }
   ],
   "source": [
    "# User defined Modules \n",
    "# (import statement)\n",
    "\n",
    "# this doesn't import functions or classes, it only imports the modules.\n",
    "# in order to accecss the content of the modules, we need .() operator.\n",
    "\n",
    "import user_modules   # this is importing the module i created within same directory,with some functions and varibales.\n",
    "\n",
    "addition = user_modules.add(5,9)    # calling add function from user_module. # different ways of importing and calling.\n",
    "print(addition)                    # saving retruned value on addition on above code, and printing out now.         \n",
    "                             \n",
    "user_modules.greeting(\"rajan\")      # calling function greeting(), since it's print inside the function, no need to again print\n",
    "\n",
    "z = user_modules.x + 5              # not only functions, we can import variable(with value assigned) as well.\n",
    "print(z)       "
   ]
  },
  {
   "cell_type": "code",
   "execution_count": 4,
   "metadata": {},
   "outputs": [
    {
     "name": "stdout",
     "output_type": "stream",
     "text": [
      "5\n",
      "Hello aditi ,Welcome to the Python Course!\n",
      "16.5\n"
     ]
    }
   ],
   "source": [
    "#  from import methods.(user defined modules)\n",
    "\n",
    "# this statements lets us import a specific things required or whole .\n",
    "# using this statements lets us directly use functions, varibales, classes without using .() operator.\n",
    "\n",
    "from user_modules import add,greeting,x  # or # from user_module import * (* means everything.)\n",
    "\n",
    "addition = add(2,3)\n",
    "print(addition)\n",
    "\n",
    "greeting(\"aditi\")\n",
    "\n",
    "z = x + 8\n",
    "print(z)"
   ]
  },
  {
   "cell_type": "code",
   "execution_count": 5,
   "metadata": {},
   "outputs": [],
   "source": [
    "# built in modules\n",
    "\n",
    "# these modules are already built in python and comes along with installation of python.\n",
    "# but we need to import those modules in order to use the functions,variables or classes inside of that module.\n",
    "\n",
    "# importing method and using methods are same as user_Defined modules."
   ]
  },
  {
   "cell_type": "code",
   "execution_count": 6,
   "metadata": {},
   "outputs": [
    {
     "data": {
      "text/plain": [
       "8.0"
      ]
     },
     "execution_count": 6,
     "metadata": {},
     "output_type": "execute_result"
    }
   ],
   "source": [
    "# import statement(built in modules)\n",
    "\n",
    "import math\n",
    "\n",
    "math.sqrt(64)"
   ]
  },
  {
   "cell_type": "code",
   "execution_count": 7,
   "metadata": {},
   "outputs": [
    {
     "data": {
      "text/plain": [
       "46"
      ]
     },
     "execution_count": 7,
     "metadata": {},
     "output_type": "execute_result"
    }
   ],
   "source": [
    "# importing and renaming modules.(built in modules)\n",
    "\n",
    "import math as m\n",
    "\n",
    "m.ceil(45.5)"
   ]
  },
  {
   "cell_type": "code",
   "execution_count": 8,
   "metadata": {},
   "outputs": [
    {
     "name": "stdout",
     "output_type": "stream",
     "text": [
      "5\n",
      "10.0\n"
     ]
    }
   ],
   "source": [
    "#  from import methods.(built in modules)\n",
    "\n",
    "from math import sqrt,ceil  # from math import *(* means everything inside math module.)\n",
    "\n",
    "print(ceil(4.5))\n",
    "print(sqrt(100))"
   ]
  },
  {
   "cell_type": "code",
   "execution_count": null,
   "metadata": {},
   "outputs": [],
   "source": []
  }
 ],
 "metadata": {
  "interpreter": {
   "hash": "916dbcbb3f70747c44a77c7bcd40155683ae19c65e1c03b4aa3499c5328201f1"
  },
  "kernelspec": {
   "display_name": "Python 3.9.7 64-bit",
   "language": "python",
   "name": "python3"
  },
  "language_info": {
   "codemirror_mode": {
    "name": "ipython",
    "version": 3
   },
   "file_extension": ".py",
   "mimetype": "text/x-python",
   "name": "python",
   "nbconvert_exporter": "python",
   "pygments_lexer": "ipython3",
   "version": "3.9.7"
  },
  "orig_nbformat": 4
 },
 "nbformat": 4,
 "nbformat_minor": 2
}
